{
 "cells": [
  {
   "cell_type": "code",
   "execution_count": 2,
   "metadata": {},
   "outputs": [],
   "source": [
    "import numpy as np\n",
    "import matplotlib.pyplot as plt\n",
    "from skimage import io \n",
    "import os\n",
    "from skimage.feature import hog\n",
    "from skimage.transform import rescale,resize,rotate"
   ]
  },
  {
   "cell_type": "code",
   "execution_count": 3,
   "metadata": {},
   "outputs": [],
   "source": [
    "class Transformer():\n",
    "    def __init__(self,dirs:list,shape:tuple):\n",
    "        self.from_path='data_leaf'\n",
    "        self.dirs=dirs\n",
    "        self.shape=shape\n",
    "        self.resized_images=[]\n",
    "        self.y_labels=[]\n",
    "        self.labels={self.dirs[index]:index for index in range(len(self.dirs))}\n",
    "        self.images=[f'{self.from_path}\\\\{d}\\\\{img}'for d in self.dirs\n",
    "                     for img in os.listdir(f'{self.from_path}\\\\{d}')]\n",
    "\n",
    "    def transform(self):\n",
    "        for scaler in [1/2,1/3]:\n",
    "            for img in self.images:\n",
    "                images=io.imread(img,as_gray=True)\n",
    "                scaled=rescale(images,scaler)\n",
    "                resized_img=resize(scaled,self.shape)\n",
    "                tr_image=hog(resized_img)\n",
    "                label=img.split('\\\\')[1]\n",
    "                self.resized_images.append(tr_image)\n",
    "                self.y_labels.append(self.labels[label])\n",
    "                \n",
    "            return self.resized_images, self.y_labels        \n",
    "\n"
   ]
  },
  {
   "cell_type": "code",
   "execution_count": 5,
   "metadata": {},
   "outputs": [],
   "source": [
    "t=Transformer(['Bacterial leaf blight','Brown spot','Leaf smut'],shape=(228,228))\n",
    "x,y=t.transform()"
   ]
  },
  {
   "cell_type": "code",
   "execution_count": 6,
   "metadata": {},
   "outputs": [
    {
     "data": {
      "text/plain": [
       "((54756,), 120)"
      ]
     },
     "execution_count": 6,
     "metadata": {},
     "output_type": "execute_result"
    }
   ],
   "source": [
    "x[0].shape,len(x)"
   ]
  },
  {
   "cell_type": "code",
   "execution_count": 7,
   "metadata": {},
   "outputs": [],
   "source": [
    "from sklearn.model_selection import train_test_split\n",
    "\n",
    "x_train,x_test,y_train,y_test=train_test_split(x,y,test_size=0.33,random_state=42)"
   ]
  },
  {
   "cell_type": "code",
   "execution_count": 8,
   "metadata": {},
   "outputs": [
    {
     "data": {
      "text/plain": [
       "array([0.22205336, 0.04889327, 0.        , ..., 0.00328652, 0.00320995,\n",
       "       0.01551261])"
      ]
     },
     "execution_count": 8,
     "metadata": {},
     "output_type": "execute_result"
    }
   ],
   "source": [
    "xtrain=np.array([image for image in x_train])\n",
    "ytrain=np.array(y_train)\n",
    "xtrain[0]"
   ]
  },
  {
   "cell_type": "code",
   "execution_count": 9,
   "metadata": {},
   "outputs": [],
   "source": [
    "xtest=np.array([image for image in x_test])\n",
    "ytest=np.array(y_test)"
   ]
  },
  {
   "cell_type": "code",
   "execution_count": 10,
   "metadata": {},
   "outputs": [
    {
     "name": "stdout",
     "output_type": "stream",
     "text": [
      "Iteration 1, loss = 1.10893845\n",
      "Iteration 2, loss = 6.06298072\n",
      "Iteration 3, loss = 6.33079284\n",
      "Iteration 4, loss = 10.11147929\n",
      "Iteration 5, loss = 3.87564969\n",
      "Iteration 6, loss = 2.11610593\n",
      "Iteration 7, loss = 1.57312613\n",
      "Iteration 8, loss = 2.05875113\n",
      "Iteration 9, loss = 1.28804484\n",
      "Iteration 10, loss = 0.41289768\n",
      "Iteration 11, loss = 1.20871700\n",
      "Iteration 12, loss = 0.93607560\n",
      "Iteration 13, loss = 0.50122647\n",
      "Iteration 14, loss = 0.38705397\n",
      "Iteration 15, loss = 0.38242810\n",
      "Iteration 16, loss = 0.49729144\n",
      "Iteration 17, loss = 0.40119913\n",
      "Iteration 18, loss = 0.14108210\n",
      "Iteration 19, loss = 0.06462858\n",
      "Iteration 20, loss = 0.09246596\n",
      "Iteration 21, loss = 0.14698053\n",
      "Iteration 22, loss = 0.13992131\n",
      "Iteration 23, loss = 0.09033195\n",
      "Iteration 24, loss = 0.03896440\n",
      "Iteration 25, loss = 0.01779438\n",
      "Iteration 26, loss = 0.02032226\n",
      "Iteration 27, loss = 0.03074530\n",
      "Iteration 28, loss = 0.02556515\n",
      "Iteration 29, loss = 0.02339378\n",
      "Iteration 30, loss = 0.02658873\n",
      "Iteration 31, loss = 0.02053919\n",
      "Iteration 32, loss = 0.01200753\n",
      "Iteration 33, loss = 0.00737762\n",
      "Iteration 34, loss = 0.00547935\n",
      "Iteration 35, loss = 0.00472739\n",
      "Iteration 36, loss = 0.00444281\n",
      "Iteration 37, loss = 0.00436878\n",
      "Iteration 38, loss = 0.00440700\n",
      "Iteration 39, loss = 0.00450049\n",
      "Iteration 40, loss = 0.00458051\n",
      "Iteration 41, loss = 0.00458807\n",
      "Iteration 42, loss = 0.00452397\n",
      "Iteration 43, loss = 0.00441286\n",
      "Iteration 44, loss = 0.00447508\n",
      "Iteration 45, loss = 0.00427917\n",
      "Iteration 46, loss = 0.00411391\n",
      "Iteration 47, loss = 0.00398305\n",
      "Iteration 48, loss = 0.00381499\n",
      "Iteration 49, loss = 0.00363546\n",
      "Iteration 50, loss = 0.00345531\n",
      "Iteration 51, loss = 0.00328928\n",
      "Iteration 52, loss = 0.00314423\n",
      "Iteration 53, loss = 0.00302200\n",
      "Iteration 54, loss = 0.00292214\n",
      "Iteration 55, loss = 0.00284166\n",
      "Iteration 56, loss = 0.00277636\n",
      "Iteration 57, loss = 0.00272325\n",
      "Iteration 58, loss = 0.00267900\n",
      "Iteration 59, loss = 0.00264131\n",
      "Iteration 60, loss = 0.00260838\n",
      "Iteration 61, loss = 0.00257903\n",
      "Iteration 62, loss = 0.00255248\n",
      "Iteration 63, loss = 0.00252801\n",
      "Iteration 64, loss = 0.00250520\n",
      "Training loss did not improve more than tol=0.000100 for 10 consecutive epochs. Stopping.\n"
     ]
    },
    {
     "data": {
      "text/plain": [
       "MLPClassifier(hidden_layer_sizes=(784, 228), verbose=2)"
      ]
     },
     "execution_count": 10,
     "metadata": {},
     "output_type": "execute_result"
    }
   ],
   "source": [
    "from sklearn.neural_network import MLPClassifier\n",
    "\n",
    "nn=MLPClassifier(hidden_layer_sizes=(784,228),activation='relu',verbose=2)\n",
    "nn.fit(xtrain,ytrain)"
   ]
  },
  {
   "cell_type": "code",
   "execution_count": 11,
   "metadata": {},
   "outputs": [
    {
     "data": {
      "text/plain": [
       "array([False, False,  True, False,  True,  True,  True,  True, False,\n",
       "        True,  True,  True, False, False,  True,  True,  True, False,\n",
       "       False,  True, False, False,  True, False,  True,  True,  True,\n",
       "        True,  True,  True,  True, False, False,  True,  True,  True,\n",
       "        True, False,  True,  True])"
      ]
     },
     "execution_count": 11,
     "metadata": {},
     "output_type": "execute_result"
    }
   ],
   "source": [
    "ypred=nn.predict(xtest)\n",
    "ytest==ypred"
   ]
  },
  {
   "cell_type": "code",
   "execution_count": 12,
   "metadata": {},
   "outputs": [
    {
     "data": {
      "text/plain": [
       "<sklearn.metrics._plot.confusion_matrix.ConfusionMatrixDisplay at 0x1b33489cd00>"
      ]
     },
     "execution_count": 12,
     "metadata": {},
     "output_type": "execute_result"
    },
    {
     "data": {
      "image/png": "[encoded data removed]",
      "text/plain": [
       "<Figure size 432x288 with 2 Axes>"
      ]
     },
     "metadata": {
      "needs_background": "light"
     },
     "output_type": "display_data"
    }
   ],
   "source": [
    "from sklearn.metrics import plot_confusion_matrix\n",
    "plot_confusion_matrix(nn,xtest,ytest)"
   ]
  },
  {
   "cell_type": "code",
   "execution_count": 13,
   "metadata": {},
   "outputs": [
    {
     "data": {
      "text/plain": [
       "0.6356878306878306"
      ]
     },
     "execution_count": 13,
     "metadata": {},
     "output_type": "execute_result"
    }
   ],
   "source": [
    "from sklearn.metrics import f1_score,accuracy_score\n",
    "\n",
    "f1_score(ytest,ypred,average='weighted')"
   ]
  },
  {
   "cell_type": "code",
   "execution_count": 14,
   "metadata": {},
   "outputs": [
    {
     "data": {
      "text/plain": [
       "0.65"
      ]
     },
     "execution_count": 14,
     "metadata": {},
     "output_type": "execute_result"
    }
   ],
   "source": [
    "accuracy_score(ytest,ypred)"
   ]
  },
  {
   "cell_type": "code",
   "execution_count": 17,
   "metadata": {},
   "outputs": [
    {
     "data": {
      "text/plain": [
       "['NN1']"
      ]
     },
     "execution_count": 17,
     "metadata": {},
     "output_type": "execute_result"
    }
   ],
   "source": [
    "from joblib import dump\n",
    "dump(nn,'NN1')"
   ]
  },
  {
   "cell_type": "code",
   "execution_count": 20,
   "metadata": {},
   "outputs": [],
   "source": [
    "x=np.array([image for image in x])\n",
    "y=np.array(y)"
   ]
  },
  {
   "cell_type": "code",
   "execution_count": 22,
   "metadata": {},
   "outputs": [
    {
     "data": {
      "text/plain": [
       "(array([0.119536  , 0.06904979, 0.07501431, ..., 0.09565988, 0.11723656,\n",
       "        0.08156743]),\n",
       " array([0, 0, 0, 0, 0, 0, 0, 0, 0, 0, 0, 0, 0, 0, 0, 0, 0, 0, 0, 0, 0, 0,\n",
       "        0, 0, 0, 0, 0, 0, 0, 0, 0, 0, 0, 0, 0, 0, 0, 0, 0, 0, 1, 1, 1, 1,\n",
       "        1, 1, 1, 1, 1, 1, 1, 1, 1, 1, 1, 1, 1, 1, 1, 1, 1, 1, 1, 1, 1, 1,\n",
       "        1, 1, 1, 1, 1, 1, 1, 1, 1, 1, 1, 1, 1, 1, 2, 2, 2, 2, 2, 2, 2, 2,\n",
       "        2, 2, 2, 2, 2, 2, 2, 2, 2, 2, 2, 2, 2, 2, 2, 2, 2, 2, 2, 2, 2, 2,\n",
       "        2, 2, 2, 2, 2, 2, 2, 2, 2, 2]))"
      ]
     },
     "execution_count": 22,
     "metadata": {},
     "output_type": "execute_result"
    }
   ],
   "source": [
    "x[0],y"
   ]
  },
  {
   "cell_type": "code",
   "execution_count": 23,
   "metadata": {},
   "outputs": [
    {
     "name": "stdout",
     "output_type": "stream",
     "text": [
      "Iteration 1, loss = 1.10485935\n",
      "Iteration 2, loss = 5.81534121\n",
      "Iteration 3, loss = 7.33548907\n",
      "Iteration 4, loss = 3.62703173\n",
      "Iteration 5, loss = 0.96197517\n",
      "Iteration 6, loss = 2.54690553\n",
      "Iteration 7, loss = 1.15685659\n",
      "Iteration 8, loss = 1.46317191\n",
      "Iteration 9, loss = 0.52466390\n",
      "Iteration 10, loss = 0.65746502\n",
      "Iteration 11, loss = 0.42999722\n",
      "Iteration 12, loss = 0.48328851\n",
      "Iteration 13, loss = 0.27607337\n",
      "Iteration 14, loss = 0.25143612\n",
      "Iteration 15, loss = 0.32562350\n",
      "Iteration 16, loss = 0.07667257\n",
      "Iteration 17, loss = 0.05592657\n",
      "Iteration 18, loss = 0.12458274\n",
      "Iteration 19, loss = 0.14648290\n",
      "Iteration 20, loss = 0.07055032\n",
      "Iteration 21, loss = 0.03297059\n",
      "Iteration 22, loss = 0.03760816\n",
      "Iteration 23, loss = 0.04496482\n",
      "Iteration 24, loss = 0.04743261\n",
      "Iteration 25, loss = 0.03559617\n",
      "Iteration 26, loss = 0.01788253\n",
      "Iteration 27, loss = 0.00935654\n",
      "Iteration 28, loss = 0.00837547\n",
      "Iteration 29, loss = 0.01049456\n",
      "Iteration 30, loss = 0.01238665\n",
      "Iteration 31, loss = 0.01096717\n",
      "Iteration 32, loss = 0.00780261\n",
      "Iteration 33, loss = 0.00581879\n",
      "Iteration 34, loss = 0.00491983\n",
      "Iteration 35, loss = 0.00438726\n",
      "Iteration 36, loss = 0.00381253\n",
      "Iteration 37, loss = 0.00348727\n",
      "Iteration 38, loss = 0.00337960\n",
      "Iteration 39, loss = 0.00329366\n",
      "Iteration 40, loss = 0.00312800\n",
      "Iteration 41, loss = 0.00287282\n",
      "Iteration 42, loss = 0.00257899\n",
      "Iteration 43, loss = 0.00230248\n",
      "Iteration 44, loss = 0.00209235\n",
      "Iteration 45, loss = 0.00196942\n",
      "Iteration 46, loss = 0.00192196\n",
      "Iteration 47, loss = 0.00191955\n",
      "Iteration 48, loss = 0.00194138\n",
      "Iteration 49, loss = 0.00196187\n",
      "Iteration 50, loss = 0.00196456\n",
      "Iteration 51, loss = 0.00194603\n",
      "Iteration 52, loss = 0.00191056\n",
      "Iteration 53, loss = 0.00186572\n",
      "Iteration 54, loss = 0.00181834\n",
      "Iteration 55, loss = 0.00177402\n",
      "Iteration 56, loss = 0.00173572\n",
      "Training loss did not improve more than tol=0.000100 for 10 consecutive epochs. Stopping.\n"
     ]
    },
    {
     "data": {
      "text/plain": [
       "MLPClassifier(hidden_layer_sizes=(784, 228), verbose=2)"
      ]
     },
     "execution_count": 23,
     "metadata": {},
     "output_type": "execute_result"
    }
   ],
   "source": [
    "nn2=MLPClassifier(hidden_layer_sizes=(784,228),activation='relu',verbose=2)\n",
    "nn2.fit(x,y.ravel())"
   ]
  },
  {
   "cell_type": "code",
   "execution_count": 24,
   "metadata": {},
   "outputs": [
    {
     "data": {
      "text/plain": [
       "array([ True,  True,  True,  True,  True,  True,  True,  True,  True,\n",
       "        True,  True,  True,  True,  True,  True,  True,  True,  True,\n",
       "        True,  True,  True,  True,  True,  True,  True,  True,  True,\n",
       "        True,  True,  True,  True,  True,  True,  True,  True,  True,\n",
       "        True,  True,  True,  True])"
      ]
     },
     "execution_count": 24,
     "metadata": {},
     "output_type": "execute_result"
    }
   ],
   "source": [
    "nn2.predict(xtest)==ytest"
   ]
  },
  {
   "cell_type": "code",
   "execution_count": 25,
   "metadata": {},
   "outputs": [
    {
     "data": {
      "text/plain": [
       "['NN2']"
      ]
     },
     "execution_count": 25,
     "metadata": {},
     "output_type": "execute_result"
    }
   ],
   "source": [
    "from joblib import dump\n",
    "dump(nn2,'NN2')"
   ]
  },
  {
   "cell_type": "code",
   "execution_count": 26,
   "metadata": {},
   "outputs": [
    {
     "data": {
      "text/plain": [
       "{'activation': 'relu',\n",
       " 'alpha': 0.0001,\n",
       " 'batch_size': 'auto',\n",
       " 'beta_1': 0.9,\n",
       " 'beta_2': 0.999,\n",
       " 'early_stopping': False,\n",
       " 'epsilon': 1e-08,\n",
       " 'hidden_layer_sizes': (784, 228),\n",
       " 'learning_rate': 'constant',\n",
       " 'learning_rate_init': 0.001,\n",
       " 'max_fun': 15000,\n",
       " 'max_iter': 200,\n",
       " 'momentum': 0.9,\n",
       " 'n_iter_no_change': 10,\n",
       " 'nesterovs_momentum': True,\n",
       " 'power_t': 0.5,\n",
       " 'random_state': None,\n",
       " 'shuffle': True,\n",
       " 'solver': 'adam',\n",
       " 'tol': 0.0001,\n",
       " 'validation_fraction': 0.1,\n",
       " 'verbose': 2,\n",
       " 'warm_start': False}"
      ]
     },
     "execution_count": 26,
     "metadata": {},
     "output_type": "execute_result"
    }
   ],
   "source": [
    "nn2.get_params()"
   ]
  },
  {
   "cell_type": "code",
   "execution_count": null,
   "metadata": {},
   "outputs": [],
   "source": []
  }
 ],
 "metadata": {
  "interpreter": {
   "hash": "43435a050d4ac362dc4b1b4851a0333547cf4819a4e47175b9a0f2919a9b0b1b"
  },
  "kernelspec": {
   "display_name": "Python 3.9.5 64-bit",
   "language": "python",
   "name": "python3"
  },
  "language_info": {
   "codemirror_mode": {
    "name": "ipython",
    "version": 3
   },
   "file_extension": ".py",
   "mimetype": "text/x-python",
   "name": "python",
   "nbconvert_exporter": "python",
   "pygments_lexer": "ipython3",
   "version": "3.9.5"
  },
  "orig_nbformat": 4
 },
 "nbformat": 4,
 "nbformat_minor": 2
}
