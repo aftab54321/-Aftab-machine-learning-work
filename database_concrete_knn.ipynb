{
 "cells": [
  {
   "cell_type": "code",
   "execution_count": 1,
   "source": [
    "import numpy as np\r\n",
    "import pandas as pd\r\n",
    "import matplotlib.pyplot as plt\r\n",
    "import seaborn as sns\r\n",
    "import random\r\n",
    "random.seed(0)"
   ],
   "outputs": [],
   "metadata": {}
  },
  {
   "cell_type": "code",
   "execution_count": 2,
   "source": [
    "data=pd.read_excel(r\"c:\\Users\\acer\\Downloads\\Concrete_Data.xls\")"
   ],
   "outputs": [],
   "metadata": {}
  },
  {
   "cell_type": "code",
   "execution_count": 3,
   "source": [
    "data.columns = ['Cement',\r\n",
    "       'Blast_Furnace_Slag',\r\n",
    "       'Fly_Ash',\r\n",
    "       'Water',\r\n",
    "       'Superplasticizer',\r\n",
    "       'Coarse_Aggregate',\r\n",
    "       'Fine_Aggregate','Age',\r\n",
    "       'Concrete_compressive_strength']"
   ],
   "outputs": [],
   "metadata": {}
  },
  {
   "cell_type": "code",
   "execution_count": 4,
   "source": [
    "data.info()"
   ],
   "outputs": [
    {
     "output_type": "stream",
     "name": "stdout",
     "text": [
      "<class 'pandas.core.frame.DataFrame'>\n",
      "RangeIndex: 1030 entries, 0 to 1029\n",
      "Data columns (total 9 columns):\n",
      " #   Column                         Non-Null Count  Dtype  \n",
      "---  ------                         --------------  -----  \n",
      " 0   Cement                         1030 non-null   float64\n",
      " 1   Blast_Furnace_Slag             1030 non-null   float64\n",
      " 2   Fly_Ash                        1030 non-null   float64\n",
      " 3   Water                          1030 non-null   float64\n",
      " 4   Superplasticizer               1030 non-null   float64\n",
      " 5   Coarse_Aggregate               1030 non-null   float64\n",
      " 6   Fine_Aggregate                 1030 non-null   float64\n",
      " 7   Age                            1030 non-null   int64  \n",
      " 8   Concrete_compressive_strength  1030 non-null   float64\n",
      "dtypes: float64(8), int64(1)\n",
      "memory usage: 72.5 KB\n"
     ]
    }
   ],
   "metadata": {}
  },
  {
   "cell_type": "code",
   "execution_count": 5,
   "source": [
    "X=data[['Cement','Superplasticizer']]\r\n",
    "Y=data[['Concrete_compressive_strength']]"
   ],
   "outputs": [],
   "metadata": {}
  },
  {
   "cell_type": "code",
   "execution_count": 6,
   "source": [
    "from sklearn.model_selection import train_test_split\r\n",
    "xtrain,xtest,ytrain,ytest=train_test_split(X,Y,test_size=0.2,random_state=1)"
   ],
   "outputs": [],
   "metadata": {}
  },
  {
   "cell_type": "code",
   "execution_count": 8,
   "source": [
    "from sklearn.neighbors import KNeighborsRegressor\r\n",
    "from sklearn.metrics import mean_squared_error,mean_absolute_percentage_error,r2_score\r\n",
    "ks=[3,4,5,6,7,8]\r\n",
    "\r\n",
    "for k in ks:\r\n",
    "    knn_model=KNeighborsRegressor(n_neighbors=k)\r\n",
    "    knn_model.fit(xtrain,ytrain)\r\n",
    "    yhat=knn_model.predict(xtest)\r\n",
    "\r\n",
    "    print(f\"=========k={k}================\")\r\n",
    "    print(\"MAE:\",100-mean_absolute_percentage_error(yhat,ytest)*100) \r\n",
    "    print(\"MSE:\",mean_squared_error(yhat,ytest))\r\n",
    "    print(\"R2 Score: \",r2_score(yhat,ytest))\r\n",
    "    print(\"==============================\")"
   ],
   "outputs": [
    {
     "output_type": "stream",
     "name": "stdout",
     "text": [
      "=========k=3================\n",
      "MAE: 67.58899948253287\n",
      "MSE: 194.37831143355734\n",
      "R2 Score:  0.03319571424949952\n",
      "==============================\n",
      "=========k=4================\n",
      "MAE: 68.33113251801345\n",
      "MSE: 173.0923373138669\n",
      "R2 Score:  0.007099850512165218\n",
      "==============================\n",
      "=========k=5================\n",
      "MAE: 66.65263983921528\n",
      "MSE: 184.22436383382959\n",
      "R2 Score:  -0.1127155838173366\n",
      "==============================\n",
      "=========k=6================\n",
      "MAE: 67.44894425589557\n",
      "MSE: 171.41532257453906\n",
      "R2 Score:  -0.09910563409349504\n",
      "==============================\n",
      "=========k=7================\n",
      "MAE: 67.22287804704719\n",
      "MSE: 172.8296005909625\n",
      "R2 Score:  -0.21367337455117652\n",
      "==============================\n",
      "=========k=8================\n",
      "MAE: 68.22292131920241\n",
      "MSE: 171.1182008616885\n",
      "R2 Score:  -0.2576622283186101\n",
      "==============================\n"
     ]
    }
   ],
   "metadata": {}
  },
  {
   "cell_type": "code",
   "execution_count": null,
   "source": [],
   "outputs": [],
   "metadata": {}
  }
 ],
 "metadata": {
  "orig_nbformat": 4,
  "language_info": {
   "name": "python",
   "version": "3.9.5",
   "mimetype": "text/x-python",
   "codemirror_mode": {
    "name": "ipython",
    "version": 3
   },
   "pygments_lexer": "ipython3",
   "nbconvert_exporter": "python",
   "file_extension": ".py"
  },
  "kernelspec": {
   "name": "python3",
   "display_name": "Python 3.9.5 64-bit"
  },
  "interpreter": {
   "hash": "43435a050d4ac362dc4b1b4851a0333547cf4819a4e47175b9a0f2919a9b0b1b"
  }
 },
 "nbformat": 4,
 "nbformat_minor": 2
}