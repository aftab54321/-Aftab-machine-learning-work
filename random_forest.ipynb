{
 "metadata": {
  "language_info": {
   "codemirror_mode": {
    "name": "ipython",
    "version": 3
   },
   "file_extension": ".py",
   "mimetype": "text/x-python",
   "name": "python",
   "nbconvert_exporter": "python",
   "pygments_lexer": "ipython3",
   "version": "3.9.5"
  },
  "orig_nbformat": 4,
  "kernelspec": {
   "name": "python3",
   "display_name": "Python 3.9.5 64-bit"
  },
  "interpreter": {
   "hash": "43435a050d4ac362dc4b1b4851a0333547cf4819a4e47175b9a0f2919a9b0b1b"
  }
 },
 "nbformat": 4,
 "nbformat_minor": 2,
 "cells": [
  {
   "cell_type": "code",
   "execution_count": 1,
   "source": [
    "import numpy as np\r\n",
    "import pandas as pd\r\n",
    "import matplotlib.pyplot as plt\r\n",
    "import seaborn as sns\r\n",
    "import random\r\n",
    "random.seed(0)"
   ],
   "outputs": [],
   "metadata": {}
  },
  {
   "cell_type": "code",
   "execution_count": 2,
   "source": [
    "pwd"
   ],
   "outputs": [
    {
     "output_type": "execute_result",
     "data": {
      "text/plain": [
       "'c:\\\\Users\\\\acer\\\\Desktop'"
      ]
     },
     "metadata": {},
     "execution_count": 2
    }
   ],
   "metadata": {}
  },
  {
   "cell_type": "code",
   "execution_count": 3,
   "source": [
    "data=pd.read_csv(r\"c:\\Users\\acer\\Desktop\\FuelConsumption.csv\")"
   ],
   "outputs": [],
   "metadata": {}
  },
  {
   "cell_type": "code",
   "execution_count": 4,
   "source": [
    "data.head()"
   ],
   "outputs": [
    {
     "output_type": "execute_result",
     "data": {
      "text/html": [
       "<div>\n",
       "<style scoped>\n",
       "    .dataframe tbody tr th:only-of-type {\n",
       "        vertical-align: middle;\n",
       "    }\n",
       "\n",
       "    .dataframe tbody tr th {\n",
       "        vertical-align: top;\n",
       "    }\n",
       "\n",
       "    .dataframe thead th {\n",
       "        text-align: right;\n",
       "    }\n",
       "</style>\n",
       "<table border=\"1\" class=\"dataframe\">\n",
       "  <thead>\n",
       "    <tr style=\"text-align: right;\">\n",
       "      <th></th>\n",
       "      <th>MODELYEAR</th>\n",
       "      <th>MAKE</th>\n",
       "      <th>MODEL</th>\n",
       "      <th>VEHICLECLASS</th>\n",
       "      <th>ENGINESIZE</th>\n",
       "      <th>CYLINDERS</th>\n",
       "      <th>TRANSMISSION</th>\n",
       "      <th>FUELTYPE</th>\n",
       "      <th>FUELCONSUMPTION_CITY</th>\n",
       "      <th>FUELCONSUMPTION_HWY</th>\n",
       "      <th>FUELCONSUMPTION_COMB</th>\n",
       "      <th>FUELCONSUMPTION_COMB_MPG</th>\n",
       "      <th>CO2EMISSIONS</th>\n",
       "    </tr>\n",
       "  </thead>\n",
       "  <tbody>\n",
       "    <tr>\n",
       "      <th>0</th>\n",
       "      <td>2014</td>\n",
       "      <td>ACURA</td>\n",
       "      <td>ILX</td>\n",
       "      <td>COMPACT</td>\n",
       "      <td>2.0</td>\n",
       "      <td>4</td>\n",
       "      <td>AS5</td>\n",
       "      <td>Z</td>\n",
       "      <td>9.9</td>\n",
       "      <td>6.7</td>\n",
       "      <td>8.5</td>\n",
       "      <td>33</td>\n",
       "      <td>196</td>\n",
       "    </tr>\n",
       "    <tr>\n",
       "      <th>1</th>\n",
       "      <td>2014</td>\n",
       "      <td>ACURA</td>\n",
       "      <td>ILX</td>\n",
       "      <td>COMPACT</td>\n",
       "      <td>2.4</td>\n",
       "      <td>4</td>\n",
       "      <td>M6</td>\n",
       "      <td>Z</td>\n",
       "      <td>11.2</td>\n",
       "      <td>7.7</td>\n",
       "      <td>9.6</td>\n",
       "      <td>29</td>\n",
       "      <td>221</td>\n",
       "    </tr>\n",
       "    <tr>\n",
       "      <th>2</th>\n",
       "      <td>2014</td>\n",
       "      <td>ACURA</td>\n",
       "      <td>ILX HYBRID</td>\n",
       "      <td>COMPACT</td>\n",
       "      <td>1.5</td>\n",
       "      <td>4</td>\n",
       "      <td>AV7</td>\n",
       "      <td>Z</td>\n",
       "      <td>6.0</td>\n",
       "      <td>5.8</td>\n",
       "      <td>5.9</td>\n",
       "      <td>48</td>\n",
       "      <td>136</td>\n",
       "    </tr>\n",
       "    <tr>\n",
       "      <th>3</th>\n",
       "      <td>2014</td>\n",
       "      <td>ACURA</td>\n",
       "      <td>MDX 4WD</td>\n",
       "      <td>SUV - SMALL</td>\n",
       "      <td>3.5</td>\n",
       "      <td>6</td>\n",
       "      <td>AS6</td>\n",
       "      <td>Z</td>\n",
       "      <td>12.7</td>\n",
       "      <td>9.1</td>\n",
       "      <td>11.1</td>\n",
       "      <td>25</td>\n",
       "      <td>255</td>\n",
       "    </tr>\n",
       "    <tr>\n",
       "      <th>4</th>\n",
       "      <td>2014</td>\n",
       "      <td>ACURA</td>\n",
       "      <td>RDX AWD</td>\n",
       "      <td>SUV - SMALL</td>\n",
       "      <td>3.5</td>\n",
       "      <td>6</td>\n",
       "      <td>AS6</td>\n",
       "      <td>Z</td>\n",
       "      <td>12.1</td>\n",
       "      <td>8.7</td>\n",
       "      <td>10.6</td>\n",
       "      <td>27</td>\n",
       "      <td>244</td>\n",
       "    </tr>\n",
       "  </tbody>\n",
       "</table>\n",
       "</div>"
      ],
      "text/plain": [
       "   MODELYEAR   MAKE       MODEL VEHICLECLASS  ENGINESIZE  CYLINDERS  \\\n",
       "0       2014  ACURA         ILX      COMPACT         2.0          4   \n",
       "1       2014  ACURA         ILX      COMPACT         2.4          4   \n",
       "2       2014  ACURA  ILX HYBRID      COMPACT         1.5          4   \n",
       "3       2014  ACURA     MDX 4WD  SUV - SMALL         3.5          6   \n",
       "4       2014  ACURA     RDX AWD  SUV - SMALL         3.5          6   \n",
       "\n",
       "  TRANSMISSION FUELTYPE  FUELCONSUMPTION_CITY  FUELCONSUMPTION_HWY  \\\n",
       "0          AS5        Z                   9.9                  6.7   \n",
       "1           M6        Z                  11.2                  7.7   \n",
       "2          AV7        Z                   6.0                  5.8   \n",
       "3          AS6        Z                  12.7                  9.1   \n",
       "4          AS6        Z                  12.1                  8.7   \n",
       "\n",
       "   FUELCONSUMPTION_COMB  FUELCONSUMPTION_COMB_MPG  CO2EMISSIONS  \n",
       "0                   8.5                        33           196  \n",
       "1                   9.6                        29           221  \n",
       "2                   5.9                        48           136  \n",
       "3                  11.1                        25           255  \n",
       "4                  10.6                        27           244  "
      ]
     },
     "metadata": {},
     "execution_count": 4
    }
   ],
   "metadata": {}
  },
  {
   "cell_type": "code",
   "execution_count": 5,
   "source": [
    "X=data[['ENGINESIZE','CYLINDERS','FUELCONSUMPTION_COMB']]\r\n",
    "Y=data[['CO2EMISSIONS']]"
   ],
   "outputs": [],
   "metadata": {}
  },
  {
   "cell_type": "code",
   "execution_count": 6,
   "source": [
    "from sklearn.model_selection import train_test_split\r\n",
    "\r\n",
    "Xtrain,Xtest,Ytrain,Ytest=train_test_split(X,Y,test_size=0.2,random_state=0)"
   ],
   "outputs": [],
   "metadata": {}
  },
  {
   "cell_type": "code",
   "execution_count": 7,
   "source": [
    "Xtrain=Xtrain[['ENGINESIZE','CYLINDERS','FUELCONSUMPTION_COMB']]\r\n",
    "Ytrain=Ytrain.values.ravel()\r\n",
    "Xtest=Xtest[['ENGINESIZE','CYLINDERS','FUELCONSUMPTION_COMB']]\r\n",
    "Ytest=Ytest.values.ravel()"
   ],
   "outputs": [],
   "metadata": {}
  },
  {
   "cell_type": "code",
   "execution_count": 8,
   "source": [
    "from sklearn.metrics import mean_squared_error,mean_absolute_percentage_error,r2_score\r\n",
    "from sklearn import tree\r\n",
    "from sklearn.ensemble import RandomForestRegressor"
   ],
   "outputs": [],
   "metadata": {}
  },
  {
   "cell_type": "code",
   "execution_count": 9,
   "source": [
    "rf_model=RandomForestRegressor(max_depth=3,n_estimators=100,random_state=10)\r\n",
    "rf_model.fit(Xtrain,Ytrain)\r\n",
    "yhat=rf_model.predict(Xtest)\r\n",
    "\r\n",
    "print(\"MSE:\",mean_squared_error(yhat,Ytest))\r\n",
    "print(\"MAE:\",mean_absolute_percentage_error(yhat,Ytest))\r\n",
    "print(\"R2_Score:\",r2_score(yhat,Ytest))\r\n",
    "print(\"Training Accuracy\")\r\n",
    "print(rf_model.score(Xtrain,Ytrain))\r\n",
    "print(\"Testing Accuracy\")\r\n",
    "rf_model.score(Xtest,Ytest)\r\n",
    "\r\n"
   ],
   "outputs": [
    {
     "output_type": "stream",
     "name": "stdout",
     "text": [
      "MSE: 388.06688561725076\n",
      "MAE: 0.04597053218720773\n",
      "R2_Score: 0.897464077803414\n",
      "Training Accuracy\n",
      "0.9091205414074729\n",
      "Testing Accuracy\n"
     ]
    },
    {
     "output_type": "execute_result",
     "data": {
      "text/plain": [
       "0.9080733813866586"
      ]
     },
     "metadata": {},
     "execution_count": 9
    }
   ],
   "metadata": {}
  },
  {
   "cell_type": "code",
   "execution_count": null,
   "source": [],
   "outputs": [],
   "metadata": {}
  },
  {
   "cell_type": "code",
   "execution_count": null,
   "source": [],
   "outputs": [],
   "metadata": {}
  },
  {
   "cell_type": "code",
   "execution_count": null,
   "source": [],
   "outputs": [],
   "metadata": {}
  },
  {
   "cell_type": "code",
   "execution_count": 11,
   "source": [
    "from sklearn.model_selection import KFold\r\n",
    "from sklearn.linear_model import LinearRegression\r\n",
    "\r\n",
    "\r\n",
    "from sklearn.metrics import mean_squared_error,mean_absolute_percentage_error,r2_score\r\n",
    "\r\n",
    "low=0\r\n",
    "up= data.shape[0]\r\n",
    "folds=KFold(n_splits=3)\r\n",
    "fold=0\r\n",
    "x,y=0,0\r\n",
    "xt,yt=0,0\r\n",
    "\r\n",
    "for train,test in folds.split(range(low,up)):\r\n",
    "     \r\n",
    "     x=X.iloc[train]\r\n",
    "     y=Y.iloc[train]\r\n",
    "\r\n",
    "     xt=X.iloc[test]\r\n",
    "     yt=Y.iloc[test]\r\n",
    "\r\n",
    "     model=LinearRegression()\r\n",
    "\r\n",
    "     model.fit(X,Y)\r\n",
    "\r\n",
    "     yhat=model.predict(xt.values)\r\n",
    "\r\n",
    "     print(\"MAE:\",mean_absolute_percentage_error(yhat,yt))\r\n",
    "     print(\"MSE:\",mean_squared_error(yhat,yt))"
   ],
   "outputs": [
    {
     "output_type": "stream",
     "name": "stdout",
     "text": [
      "MAE: 0.06016928066918551\n",
      "MSE: 601.8033825566647\n",
      "MAE: 0.0748950714630325\n",
      "MSE: 693.0116526644015\n",
      "MAE: 0.05641392785044695\n",
      "MSE: 341.6627830294862\n"
     ]
    }
   ],
   "metadata": {}
  },
  {
   "cell_type": "code",
   "execution_count": 15,
   "source": [
    "X=data[['ENGINESIZE']]\r\n",
    "Y=data[['CO2EMISSIONS']]\r\n",
    "\r\n",
    "line=np.linspace(1,8,1000).reshape(-1,1)\r\n",
    "\r\n",
    "fig,axes=plt.subplots(1,5,figsize=(20,5))\r\n",
    "\r\n",
    "low=0\r\n",
    "up= data.shape[0]\r\n",
    "folds=KFold(n_splits=5)\r\n",
    "fold=0\r\n",
    "\r\n",
    "for splits,ax in zip(folds.split(range(low,up)),axes):\r\n",
    "     \r\n",
    "    x=X.iloc[splits[0]]\r\n",
    "    y=Y.iloc[splits[0]]\r\n",
    "\r\n",
    "    xt=X.iloc[splits[1]]\r\n",
    "    yt=Y.iloc[splits[1]]\r\n",
    "\r\n",
    "    model=LinearRegression()\r\n",
    "\r\n",
    "    model.fit(X,Y)\r\n",
    "\r\n",
    "    yhat=model.predict(xt.values)\r\n",
    "    fold+=1\r\n",
    "\r\n",
    "    print(f\"Fold{fold}\")\r\n",
    "    print(\"MAE:\",mean_absolute_percentage_error(yhat,yt))\r\n",
    "    print(\"MSE:\",mean_squared_error(yhat,yt))\r\n",
    "\r\n",
    "    ax.scatter(X.values,Y,c='darkorange',label='Data')\r\n",
    "    ax.plot(line,model.predict(line),c='black',label='Prediction')\r\n",
    "    ax.legend()\r\n",
    "    ax.set_title(f'Regression for Fold{fold}')"
   ],
   "outputs": [
    {
     "output_type": "stream",
     "name": "stdout",
     "text": [
      "Fold1\n",
      "MAE: 0.0803944536236619\n",
      "MSE: 854.9514558031822\n",
      "Fold2\n",
      "MAE: 0.09173451763419231\n",
      "MSE: 1051.357539968007\n",
      "Fold3\n",
      "MAE: 0.09708772699832917\n",
      "MSE: 1070.6902092071475\n",
      "Fold4\n",
      "MAE: 0.0994872674872146\n",
      "MSE: 1013.7402761059449\n",
      "Fold5\n",
      "MAE: 0.08564078204459523\n",
      "MSE: 740.7665529780116\n"
     ]
    },
    {
     "output_type": "display_data",
     "data": {
      "image/png": "[encoded data removed]",
      "text/plain": [
       "<Figure size 1440x360 with 5 Axes>"
      ]
     },
     "metadata": {
      "needs_background": "light"
     }
    }
   ],
   "metadata": {}
  },
  {
   "cell_type": "code",
   "execution_count": null,
   "source": [],
   "outputs": [],
   "metadata": {}
  }
 ]
}