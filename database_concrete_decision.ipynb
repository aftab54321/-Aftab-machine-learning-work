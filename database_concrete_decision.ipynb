{
 "cells": [
  {
   "cell_type": "code",
   "execution_count": 1,
   "source": [
    "import numpy as np\r\n",
    "import pandas as pd\r\n",
    "import matplotlib.pyplot as plt\r\n",
    "import seaborn as sns\r\n",
    "import random\r\n",
    "random.seed(0)"
   ],
   "outputs": [],
   "metadata": {}
  },
  {
   "cell_type": "code",
   "execution_count": 2,
   "source": [
    "data=pd.read_excel(r\"c:\\Users\\acer\\Downloads\\Concrete_Data.xls\")"
   ],
   "outputs": [],
   "metadata": {}
  },
  {
   "cell_type": "code",
   "execution_count": 3,
   "source": [
    "data.columns = ['Cement',\r\n",
    "       'Blast_Furnace_Slag',\r\n",
    "       'Fly_Ash',\r\n",
    "       'Water',\r\n",
    "       'Superplasticizer',\r\n",
    "       'Coarse_Aggregate',\r\n",
    "       'Fine_Aggregate', 'Age',\r\n",
    "       'Concrete_compressive_strength']"
   ],
   "outputs": [],
   "metadata": {}
  },
  {
   "cell_type": "code",
   "execution_count": 5,
   "source": [
    "data.corr()"
   ],
   "outputs": [
    {
     "output_type": "execute_result",
     "data": {
      "text/html": [
       "<div>\n",
       "<style scoped>\n",
       "    .dataframe tbody tr th:only-of-type {\n",
       "        vertical-align: middle;\n",
       "    }\n",
       "\n",
       "    .dataframe tbody tr th {\n",
       "        vertical-align: top;\n",
       "    }\n",
       "\n",
       "    .dataframe thead th {\n",
       "        text-align: right;\n",
       "    }\n",
       "</style>\n",
       "<table border=\"1\" class=\"dataframe\">\n",
       "  <thead>\n",
       "    <tr style=\"text-align: right;\">\n",
       "      <th></th>\n",
       "      <th>Cement</th>\n",
       "      <th>Blast_Furnace_Slag</th>\n",
       "      <th>Fly_Ash</th>\n",
       "      <th>Water</th>\n",
       "      <th>Superplasticizer</th>\n",
       "      <th>Coarse_Aggregate</th>\n",
       "      <th>Fine_Aggregate</th>\n",
       "      <th>Age</th>\n",
       "      <th>Concrete_compressive_strength</th>\n",
       "    </tr>\n",
       "  </thead>\n",
       "  <tbody>\n",
       "    <tr>\n",
       "      <th>Cement</th>\n",
       "      <td>1.000000</td>\n",
       "      <td>-0.275193</td>\n",
       "      <td>-0.397475</td>\n",
       "      <td>-0.081544</td>\n",
       "      <td>0.092771</td>\n",
       "      <td>-0.109356</td>\n",
       "      <td>-0.222720</td>\n",
       "      <td>0.081947</td>\n",
       "      <td>0.497833</td>\n",
       "    </tr>\n",
       "    <tr>\n",
       "      <th>Blast_Furnace_Slag</th>\n",
       "      <td>-0.275193</td>\n",
       "      <td>1.000000</td>\n",
       "      <td>-0.323569</td>\n",
       "      <td>0.107286</td>\n",
       "      <td>0.043376</td>\n",
       "      <td>-0.283998</td>\n",
       "      <td>-0.281593</td>\n",
       "      <td>-0.044246</td>\n",
       "      <td>0.134824</td>\n",
       "    </tr>\n",
       "    <tr>\n",
       "      <th>Fly_Ash</th>\n",
       "      <td>-0.397475</td>\n",
       "      <td>-0.323569</td>\n",
       "      <td>1.000000</td>\n",
       "      <td>-0.257044</td>\n",
       "      <td>0.377340</td>\n",
       "      <td>-0.009977</td>\n",
       "      <td>0.079076</td>\n",
       "      <td>-0.154370</td>\n",
       "      <td>-0.105753</td>\n",
       "    </tr>\n",
       "    <tr>\n",
       "      <th>Water</th>\n",
       "      <td>-0.081544</td>\n",
       "      <td>0.107286</td>\n",
       "      <td>-0.257044</td>\n",
       "      <td>1.000000</td>\n",
       "      <td>-0.657464</td>\n",
       "      <td>-0.182312</td>\n",
       "      <td>-0.450635</td>\n",
       "      <td>0.277604</td>\n",
       "      <td>-0.289613</td>\n",
       "    </tr>\n",
       "    <tr>\n",
       "      <th>Superplasticizer</th>\n",
       "      <td>0.092771</td>\n",
       "      <td>0.043376</td>\n",
       "      <td>0.377340</td>\n",
       "      <td>-0.657464</td>\n",
       "      <td>1.000000</td>\n",
       "      <td>-0.266303</td>\n",
       "      <td>0.222501</td>\n",
       "      <td>-0.192717</td>\n",
       "      <td>0.366102</td>\n",
       "    </tr>\n",
       "    <tr>\n",
       "      <th>Coarse_Aggregate</th>\n",
       "      <td>-0.109356</td>\n",
       "      <td>-0.283998</td>\n",
       "      <td>-0.009977</td>\n",
       "      <td>-0.182312</td>\n",
       "      <td>-0.266303</td>\n",
       "      <td>1.000000</td>\n",
       "      <td>-0.178506</td>\n",
       "      <td>-0.003016</td>\n",
       "      <td>-0.164928</td>\n",
       "    </tr>\n",
       "    <tr>\n",
       "      <th>Fine_Aggregate</th>\n",
       "      <td>-0.222720</td>\n",
       "      <td>-0.281593</td>\n",
       "      <td>0.079076</td>\n",
       "      <td>-0.450635</td>\n",
       "      <td>0.222501</td>\n",
       "      <td>-0.178506</td>\n",
       "      <td>1.000000</td>\n",
       "      <td>-0.156094</td>\n",
       "      <td>-0.167249</td>\n",
       "    </tr>\n",
       "    <tr>\n",
       "      <th>Age</th>\n",
       "      <td>0.081947</td>\n",
       "      <td>-0.044246</td>\n",
       "      <td>-0.154370</td>\n",
       "      <td>0.277604</td>\n",
       "      <td>-0.192717</td>\n",
       "      <td>-0.003016</td>\n",
       "      <td>-0.156094</td>\n",
       "      <td>1.000000</td>\n",
       "      <td>0.328877</td>\n",
       "    </tr>\n",
       "    <tr>\n",
       "      <th>Concrete_compressive_strength</th>\n",
       "      <td>0.497833</td>\n",
       "      <td>0.134824</td>\n",
       "      <td>-0.105753</td>\n",
       "      <td>-0.289613</td>\n",
       "      <td>0.366102</td>\n",
       "      <td>-0.164928</td>\n",
       "      <td>-0.167249</td>\n",
       "      <td>0.328877</td>\n",
       "      <td>1.000000</td>\n",
       "    </tr>\n",
       "  </tbody>\n",
       "</table>\n",
       "</div>"
      ],
      "text/plain": [
       "                                 Cement  Blast_Furnace_Slag   Fly_Ash  \\\n",
       "Cement                         1.000000           -0.275193 -0.397475   \n",
       "Blast_Furnace_Slag            -0.275193            1.000000 -0.323569   \n",
       "Fly_Ash                       -0.397475           -0.323569  1.000000   \n",
       "Water                         -0.081544            0.107286 -0.257044   \n",
       "Superplasticizer               0.092771            0.043376  0.377340   \n",
       "Coarse_Aggregate              -0.109356           -0.283998 -0.009977   \n",
       "Fine_Aggregate                -0.222720           -0.281593  0.079076   \n",
       "Age                            0.081947           -0.044246 -0.154370   \n",
       "Concrete_compressive_strength  0.497833            0.134824 -0.105753   \n",
       "\n",
       "                                  Water  Superplasticizer  Coarse_Aggregate  \\\n",
       "Cement                        -0.081544          0.092771         -0.109356   \n",
       "Blast_Furnace_Slag             0.107286          0.043376         -0.283998   \n",
       "Fly_Ash                       -0.257044          0.377340         -0.009977   \n",
       "Water                          1.000000         -0.657464         -0.182312   \n",
       "Superplasticizer              -0.657464          1.000000         -0.266303   \n",
       "Coarse_Aggregate              -0.182312         -0.266303          1.000000   \n",
       "Fine_Aggregate                -0.450635          0.222501         -0.178506   \n",
       "Age                            0.277604         -0.192717         -0.003016   \n",
       "Concrete_compressive_strength -0.289613          0.366102         -0.164928   \n",
       "\n",
       "                               Fine_Aggregate       Age  \\\n",
       "Cement                              -0.222720  0.081947   \n",
       "Blast_Furnace_Slag                  -0.281593 -0.044246   \n",
       "Fly_Ash                              0.079076 -0.154370   \n",
       "Water                               -0.450635  0.277604   \n",
       "Superplasticizer                     0.222501 -0.192717   \n",
       "Coarse_Aggregate                    -0.178506 -0.003016   \n",
       "Fine_Aggregate                       1.000000 -0.156094   \n",
       "Age                                 -0.156094  1.000000   \n",
       "Concrete_compressive_strength       -0.167249  0.328877   \n",
       "\n",
       "                               Concrete_compressive_strength  \n",
       "Cement                                              0.497833  \n",
       "Blast_Furnace_Slag                                  0.134824  \n",
       "Fly_Ash                                            -0.105753  \n",
       "Water                                              -0.289613  \n",
       "Superplasticizer                                    0.366102  \n",
       "Coarse_Aggregate                                   -0.164928  \n",
       "Fine_Aggregate                                     -0.167249  \n",
       "Age                                                 0.328877  \n",
       "Concrete_compressive_strength                       1.000000  "
      ]
     },
     "metadata": {},
     "execution_count": 5
    }
   ],
   "metadata": {}
  },
  {
   "cell_type": "code",
   "execution_count": 4,
   "source": [
    "corr=data.corr()\r\n",
    "sns.heatmap(corr)"
   ],
   "outputs": [
    {
     "output_type": "execute_result",
     "data": {
      "text/plain": [
       "<AxesSubplot:>"
      ]
     },
     "metadata": {},
     "execution_count": 4
    },
    {
     "output_type": "display_data",
     "data": {
      "image/png": "[encoded data removed]",
      "text/plain": [
       "<Figure size 432x288 with 2 Axes>"
      ]
     },
     "metadata": {
      "needs_background": "light"
     }
    }
   ],
   "metadata": {}
  },
  {
   "cell_type": "code",
   "execution_count": 7,
   "source": [
    "X=data[['Cement','Superplasticizer','Age']]\r\n",
    "Y=data[['Concrete_compressive_strength']]"
   ],
   "outputs": [],
   "metadata": {}
  },
  {
   "cell_type": "code",
   "execution_count": 8,
   "source": [
    "from sklearn.model_selection import train_test_split\r\n",
    "xtrain,xtest,ytrain,ytest=train_test_split(X,Y,test_size=0.2,random_state=1)"
   ],
   "outputs": [],
   "metadata": {}
  },
  {
   "cell_type": "code",
   "execution_count": 9,
   "source": [
    "from sklearn.metrics import mean_squared_error,mean_absolute_percentage_error\r\n",
    "from sklearn.metrics import r2_score"
   ],
   "outputs": [],
   "metadata": {}
  },
  {
   "cell_type": "code",
   "execution_count": 11,
   "source": [
    "from sklearn import tree\r\n",
    "dt_model=tree.DecisionTreeRegressor(max_depth=5)\r\n",
    "dt_model.fit(xtrain,ytrain)\r\n",
    "yhat=dt_model.predict(xtest.values)\r\n",
    "\r\n",
    "print(\"MAE:\",100-mean_absolute_percentage_error(yhat,ytest)*100)\r\n",
    "print(\"MSE:\",mean_squared_error(yhat,ytest))\r\n",
    "print(\"R2_Score:\",r2_score(yhat,ytest))"
   ],
   "outputs": [
    {
     "output_type": "stream",
     "name": "stdout",
     "text": [
      "MAE: 78.29765852919864\n",
      "MSE: 81.33282681417033\n",
      "R2_Score: 0.6108925013078774\n"
     ]
    }
   ],
   "metadata": {}
  }
 ],
 "metadata": {
  "orig_nbformat": 4,
  "language_info": {
   "name": "python",
   "version": "3.9.5",
   "mimetype": "text/x-python",
   "codemirror_mode": {
    "name": "ipython",
    "version": 3
   },
   "pygments_lexer": "ipython3",
   "nbconvert_exporter": "python",
   "file_extension": ".py"
  },
  "kernelspec": {
   "name": "python3",
   "display_name": "Python 3.9.5 64-bit"
  },
  "interpreter": {
   "hash": "43435a050d4ac362dc4b1b4851a0333547cf4819a4e47175b9a0f2919a9b0b1b"
  }
 },
 "nbformat": 4,
 "nbformat_minor": 2
}