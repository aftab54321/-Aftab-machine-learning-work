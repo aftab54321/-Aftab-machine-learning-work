{
 "cells": [
  {
   "cell_type": "code",
   "execution_count": 1,
   "metadata": {},
   "outputs": [],
   "source": [
    "import numpy as np\n",
    "import pandas as pd\n",
    "import matplotlib.pyplot as plt\n",
    "import seaborn as sns\n",
    "\n"
   ]
  },
  {
   "cell_type": "code",
   "execution_count": 2,
   "metadata": {},
   "outputs": [],
   "source": [
    "data=pd.read_csv(r\"c:\\Users\\acer\\Desktop\\FuelConsumption.csv\")"
   ]
  },
  {
   "cell_type": "code",
   "execution_count": null,
   "metadata": {},
   "outputs": [],
   "source": []
  },
  {
   "cell_type": "code",
   "execution_count": 3,
   "metadata": {},
   "outputs": [
    {
     "name": "stdout",
     "output_type": "stream",
     "text": [
      "========RBF=============\n",
      "MSR:  677.8990859835736\n",
      "R2_Score: 0.7659275734447375\n",
      "=========Linear===========\n",
      "MSR:  1620.2184267485227\n",
      "R2_Score: 0.7598444235313728\n",
      "==========Poly==============\n",
      "MSR:  888.9722939531265\n",
      "R2_Score: 0.8144385857890487\n"
     ]
    }
   ],
   "source": [
    "X=data[['ENGINESIZE','FUELCONSUMPTION_COMB']]\n",
    "Y=data[['CO2EMISSIONS']]\n",
    "\n",
    "from sklearn.model_selection import train_test_split\n",
    "xtrain,xtest,ytrain,ytest=train_test_split(X,Y,test_size=0.2,random_state=1)\n",
    "\n",
    "from sklearn.svm import SVR\n",
    "\n",
    "svrR = SVR()\n",
    "svrL = SVR(kernel='linear')\n",
    "svrP = SVR(kernel='poly',degree=1)\n",
    "\n",
    "svrR.fit(xtrain,ytrain.values.ravel())\n",
    "svrL.fit(xtrain,ytrain.values.ravel())\n",
    "svrP.fit(xtrain,ytrain.values.ravel())\n",
    "\n",
    "yhatR=svrR.predict(xtest)\n",
    "yhatL=svrL.predict(xtest)\n",
    "yhatP=svrP.predict(xtest)\n",
    "\n",
    "from sklearn.metrics import mean_squared_error,mean_absolute_percentage_error,r2_score\n",
    "\n",
    "print(f\"========RBF=============\")\n",
    "print(\"MSR: \",mean_squared_error(yhatR,ytest.values.ravel()))\n",
    "print(\"R2_Score:\",r2_score(yhatR,ytest.values.ravel()))\n",
    "\n",
    "print(f\"=========Linear===========\")\n",
    "print(\"MSR: \",mean_squared_error(yhatL,ytest.values.ravel()))\n",
    "print(\"R2_Score:\",r2_score(yhatL,ytest.values.ravel()))\n",
    "\n",
    "print(f\"==========Poly==============\")\n",
    "print(\"MSR: \",mean_squared_error(yhatP,ytest.values.ravel()))\n",
    "print(\"R2_Score:\",r2_score(yhatP,ytest.values.ravel()))\n",
    "\n"
   ]
  },
  {
   "cell_type": "code",
   "execution_count": null,
   "metadata": {},
   "outputs": [],
   "source": []
  }
 ],
 "metadata": {
  "interpreter": {
   "hash": "43435a050d4ac362dc4b1b4851a0333547cf4819a4e47175b9a0f2919a9b0b1b"
  },
  "kernelspec": {
   "display_name": "Python 3.9.5 64-bit",
   "name": "python3"
  },
  "language_info": {
   "codemirror_mode": {
    "name": "ipython",
    "version": 3
   },
   "file_extension": ".py",
   "mimetype": "text/x-python",
   "name": "python",
   "nbconvert_exporter": "python",
   "pygments_lexer": "ipython3",
   "version": "3.9.5"
  },
  "orig_nbformat": 4
 },
 "nbformat": 4,
 "nbformat_minor": 2
}
