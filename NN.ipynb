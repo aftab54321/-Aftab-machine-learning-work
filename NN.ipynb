{
 "cells": [
  {
   "cell_type": "code",
   "execution_count": 2,
   "metadata": {},
   "outputs": [],
   "source": [
    "import numpy as np\n",
    "import matplotlib.pyplot as plt\n",
    "from skimage import io \n",
    "import os\n"
   ]
  },
  {
   "cell_type": "code",
   "execution_count": 3,
   "metadata": {},
   "outputs": [],
   "source": [
    "##data loading\n",
    "\n",
    "images=[]\n",
    "labels=[]\n",
    "files= os.listdir(r'processed_data')\n",
    "for pimg in files :\n",
    "    image=io.imread(f'processed_data\\\\{pimg}').ravel()/255\n",
    "    label=int(pimg.split('.')[0][-1])\n",
    "    images.append(image)\n",
    "    labels.append(label)"
   ]
  },
  {
   "cell_type": "code",
   "execution_count": 4,
   "metadata": {},
   "outputs": [],
   "source": [
    "from sklearn.model_selection import train_test_split\n",
    "\n",
    "x_train,x_test,y_train,y_test=train_test_split(images,labels,test_size=0.25,random_state=42)"
   ]
  },
  {
   "cell_type": "code",
   "execution_count": 5,
   "metadata": {},
   "outputs": [
    {
     "data": {
      "text/plain": [
       "array([0.91372549, 0.91372549, 0.91372549, ..., 0.89019608, 0.89019608,\n",
       "       0.89019608])"
      ]
     },
     "execution_count": 5,
     "metadata": {},
     "output_type": "execute_result"
    }
   ],
   "source": [
    "xtrain=np.array([image for image in x_train])\n",
    "ytrain=np.array(y_train)\n",
    "xtrain[0]"
   ]
  },
  {
   "cell_type": "code",
   "execution_count": 6,
   "metadata": {},
   "outputs": [],
   "source": [
    "xtest=np.array([image for image in x_test])\n",
    "ytest=np.array(y_test)"
   ]
  },
  {
   "cell_type": "markdown",
   "metadata": {},
   "source": [
    "Modeling"
   ]
  },
  {
   "cell_type": "code",
   "execution_count": 14,
   "metadata": {},
   "outputs": [
    {
     "data": {
      "text/plain": [
       "25992"
      ]
     },
     "execution_count": 14,
     "metadata": {},
     "output_type": "execute_result"
    }
   ],
   "source": [
    "228*228//2"
   ]
  },
  {
   "cell_type": "code",
   "execution_count": 7,
   "metadata": {},
   "outputs": [
    {
     "name": "stdout",
     "output_type": "stream",
     "text": [
      "Iteration 1, loss = 1.13828744\n",
      "Iteration 2, loss = 1.55889214\n",
      "Iteration 3, loss = 1.38018573\n",
      "Iteration 4, loss = 1.18229578\n",
      "Iteration 5, loss = 1.10053386\n",
      "Iteration 6, loss = 1.18541129\n",
      "Iteration 7, loss = 1.24353862\n",
      "Iteration 8, loss = 1.22869890\n",
      "Iteration 9, loss = 1.19183264\n",
      "Iteration 10, loss = 1.14590824\n",
      "Iteration 11, loss = 1.10806882\n",
      "Iteration 12, loss = 1.10366297\n",
      "Iteration 13, loss = 1.13194514\n",
      "Iteration 14, loss = 1.15660060\n",
      "Iteration 15, loss = 1.15532826\n",
      "Iteration 16, loss = 1.13661102\n",
      "Training loss did not improve more than tol=0.000100 for 10 consecutive epochs. Stopping.\n"
     ]
    },
    {
     "data": {
      "text/plain": [
       "MLPClassifier(activation='logistic', hidden_layer_sizes=(784, 228), verbose=2)"
      ]
     },
     "execution_count": 7,
     "metadata": {},
     "output_type": "execute_result"
    }
   ],
   "source": [
    "from sklearn.neural_network import MLPClassifier \n",
    "\n",
    "NN=MLPClassifier(hidden_layer_sizes=(784,228),activation='logistic',verbose=2)\n",
    "NN.fit(xtrain,ytrain.ravel())"
   ]
  },
  {
   "cell_type": "code",
   "execution_count": 9,
   "metadata": {},
   "outputs": [
    {
     "data": {
      "text/plain": [
       "array([False,  True,  True,  True,  True, False, False,  True, False,\n",
       "       False,  True, False,  True, False, False, False, False,  True,\n",
       "       False, False, False, False,  True, False, False,  True,  True,\n",
       "       False, False, False])"
      ]
     },
     "execution_count": 9,
     "metadata": {},
     "output_type": "execute_result"
    }
   ],
   "source": [
    "ypred=NN.predict(xtest)\n",
    "ytest==ypred"
   ]
  },
  {
   "cell_type": "code",
   "execution_count": 11,
   "metadata": {},
   "outputs": [
    {
     "data": {
      "text/plain": [
       "<sklearn.metrics._plot.confusion_matrix.ConfusionMatrixDisplay at 0x1e768742d90>"
      ]
     },
     "execution_count": 11,
     "metadata": {},
     "output_type": "execute_result"
    },
    {
     "data": {
      "image/png": "[encoded data removed]",
      "text/plain": [
       "<Figure size 432x288 with 2 Axes>"
      ]
     },
     "metadata": {
      "needs_background": "light"
     },
     "output_type": "display_data"
    }
   ],
   "source": [
    "from sklearn.metrics import plot_confusion_matrix\n",
    "\n",
    "plot_confusion_matrix(NN,xtrain,ytrain)"
   ]
  }
 ],
 "metadata": {
  "interpreter": {
   "hash": "43435a050d4ac362dc4b1b4851a0333547cf4819a4e47175b9a0f2919a9b0b1b"
  },
  "kernelspec": {
   "display_name": "Python 3.9.5 64-bit",
   "language": "python",
   "name": "python3"
  },
  "language_info": {
   "codemirror_mode": {
    "name": "ipython",
    "version": 3
   },
   "file_extension": ".py",
   "mimetype": "text/x-python",
   "name": "python",
   "nbconvert_exporter": "python",
   "pygments_lexer": "ipython3",
   "version": "3.9.5"
  },
  "orig_nbformat": 4
 },
 "nbformat": 4,
 "nbformat_minor": 2
}
