{
 "cells": [
  {
   "cell_type": "code",
   "execution_count": 1,
   "metadata": {},
   "outputs": [],
   "source": [
    "import numpy as np\n",
    "import pandas as pd\n",
    "import matplotlib.pyplot as plt\n",
    "import seaborn as sns\n",
    "%matplotlib inline"
   ]
  },
  {
   "cell_type": "code",
   "execution_count": 2,
   "metadata": {},
   "outputs": [],
   "source": [
    "#data gathering\n",
    "data=pd.read_csv(r\"c:\\Users\\\\acer\\\\Downloads\\iris.csv\")"
   ]
  },
  {
   "cell_type": "code",
   "execution_count": 3,
   "metadata": {},
   "outputs": [],
   "source": [
    "#data preprocessing\n",
    "data.drop(['Id'],axis=1,inplace=True)"
   ]
  },
  {
   "cell_type": "code",
   "execution_count": 4,
   "metadata": {},
   "outputs": [
    {
     "data": {
      "image/png": "[encoded data removed]",
      "text/plain": [
       "<Figure size 1440x720 with 1 Axes>"
      ]
     },
     "metadata": {
      "needs_background": "light"
     },
     "output_type": "display_data"
    }
   ],
   "source": [
    "#visualize\n",
    "iris_setosa=data[data[list(data.columns)[-1]]=='iris_setosa']\n",
    "iris_versicolor=data[data[list(data.columns)[-1]]=='iris_versicolor']\n",
    "iris_virginica=data[data[list(data.columns)[-1]]=='iris_virginica']\n",
    "\n",
    "fig,axes = plt.subplots(1,1,figsize=(20,10))\n",
    "axes.scatter(iris_setosa[['SepalLengthCm']],iris_setosa[['SepalWidthCm']],c='darkorange',label='iris_setosa')\n",
    "axes.scatter(iris_versicolor[['SepalLengthCm']],iris_versicolor[['SepalWidthCm']],c='green',label='iris_versicolor')\n",
    "axes.scatter(iris_virginica[['SepalLengthCm']],iris_virginica[['SepalWidthCm']],c='lightblue',label='iris_virginica')\n",
    "axes.legend()\n",
    "plt.show()"
   ]
  },
  {
   "cell_type": "code",
   "execution_count": 5,
   "metadata": {},
   "outputs": [],
   "source": [
    "#labeling\n",
    "from sklearn.preprocessing import LabelEncoder\n",
    "\n",
    "x=data[list(data.columns)[:-1]]\n",
    "y=data[list(data.columns)[-1]]\n",
    "\n",
    "#initialize encoder\n",
    "encoder=LabelEncoder()\n",
    "encodedy=encoder.fit_transform(y)\n",
    "\n",
    "#scaling features\n",
    "from sklearn.preprocessing import StandardScaler,MinMaxScaler\n",
    "#initialize scaler\n",
    "scaler=StandardScaler()\n",
    "scaler.fit(x)\n",
    "scaledx=scaler.transform(x)\n",
    "scaledx\n",
    "\n",
    "mxscaler=MinMaxScaler()\n",
    "scaledx=mxscaler.fit_transform(x)"
   ]
  },
  {
   "cell_type": "code",
   "execution_count": 6,
   "metadata": {},
   "outputs": [],
   "source": [
    "#split\n",
    "from sklearn import model_selection\n",
    "xtrain,xtest,ytrain,ytest=model_selection.train_test_split(scaledx,encodedy,test_size=0.2,random_state=3)"
   ]
  },
  {
   "cell_type": "code",
   "execution_count": 7,
   "metadata": {},
   "outputs": [
    {
     "data": {
      "text/plain": [
       "array([ True,  True,  True,  True,  True,  True,  True,  True,  True,\n",
       "        True,  True,  True,  True,  True,  True,  True,  True,  True,\n",
       "        True,  True,  True,  True,  True,  True,  True,  True,  True,\n",
       "        True,  True,  True])"
      ]
     },
     "execution_count": 7,
     "metadata": {},
     "output_type": "execute_result"
    }
   ],
   "source": [
    "#modeling\n",
    "from sklearn import svm\n",
    "#initialize\n",
    "model=svm.SVC()\n",
    "#train model\n",
    "model.fit(xtrain,ytrain)\n",
    "#test prediction\n",
    "ypred=model.predict(xtest)\n",
    "\n",
    "ypred==ytest"
   ]
  },
  {
   "cell_type": "code",
   "execution_count": 8,
   "metadata": {},
   "outputs": [
    {
     "name": "stdout",
     "output_type": "stream",
     "text": [
      "Confusion Matrix:\n",
      "  [[10  0  0]\n",
      " [ 0 10  0]\n",
      " [ 0  0 10]]\n",
      "F1 Score:  [1. 1. 1.]\n"
     ]
    }
   ],
   "source": [
    "#evaluate\n",
    "from sklearn.metrics import f1_score,confusion_matrix\n",
    "\n",
    "print(\"Confusion Matrix:\\n \",confusion_matrix(ypred,ytest))\n",
    "print(\"F1 Score: \",f1_score(ypred,ytest,average=None))"
   ]
  },
  {
   "cell_type": "code",
   "execution_count": 9,
   "metadata": {},
   "outputs": [
    {
     "data": {
      "text/plain": [
       "<sklearn.metrics._plot.confusion_matrix.ConfusionMatrixDisplay at 0x20d7f42a6d0>"
      ]
     },
     "execution_count": 9,
     "metadata": {},
     "output_type": "execute_result"
    },
    {
     "data": {
      "image/png": "[encoded data removed]",
      "text/plain": [
       "<Figure size 432x288 with 2 Axes>"
      ]
     },
     "metadata": {
      "needs_background": "light"
     },
     "output_type": "display_data"
    },
    {
     "data": {
      "image/png": "[encoded data removed]",
      "text/plain": [
       "<Figure size 432x288 with 2 Axes>"
      ]
     },
     "metadata": {
      "needs_background": "light"
     },
     "output_type": "display_data"
    }
   ],
   "source": [
    "from sklearn import metrics\n",
    "\n",
    "metrics.plot_confusion_matrix(model,xtrain,ytrain)\n",
    "metrics.plot_confusion_matrix(model,xtest,ytest)"
   ]
  },
  {
   "cell_type": "code",
   "execution_count": 10,
   "metadata": {},
   "outputs": [
    {
     "data": {
      "text/plain": [
       "0.9600000000000002"
      ]
     },
     "execution_count": 10,
     "metadata": {},
     "output_type": "execute_result"
    }
   ],
   "source": [
    "import warnings\n",
    "warnings.filterwarnings(action=\"ignore\")\n",
    "\n",
    "from sklearn.model_selection import cross_val_score\n",
    "cv = cross_val_score(\n",
    "    model,scaledx,encodedy,cv=5,scoring='accuracy'\n",
    ")\n",
    "cv.mean()"
   ]
  },
  {
   "cell_type": "code",
   "execution_count": 11,
   "metadata": {},
   "outputs": [
    {
     "data": {
      "text/plain": [
       "dict_keys(['C', 'break_ties', 'cache_size', 'class_weight', 'coef0', 'decision_function_shape', 'degree', 'gamma', 'kernel', 'max_iter', 'probability', 'random_state', 'shrinking', 'tol', 'verbose'])"
      ]
     },
     "execution_count": 11,
     "metadata": {},
     "output_type": "execute_result"
    }
   ],
   "source": [
    "svm.SVC().get_params().keys()"
   ]
  },
  {
   "cell_type": "code",
   "execution_count": 15,
   "metadata": {},
   "outputs": [
    {
     "name": "stdout",
     "output_type": "stream",
     "text": [
      "Fitting 5 folds for each of 5220 candidates, totalling 26100 fits\n"
     ]
    },
    {
     "data": {
      "text/plain": [
       "GridSearchCV(cv=5, estimator=SVC(), n_jobs=-1,\n",
       "             param_grid={'C': [3, 6, 9],\n",
       "                         'decision_function_shape': ['ovr', 'ovo'],\n",
       "                         'degree': [2, 3, 4, 5, 6], 'gamma': ['scale', 'auto'],\n",
       "                         'kernel': ['linear', 'rbf', 'poly'],\n",
       "                         'max_iter': [100, 200, 300, 400, 500, 600, 700, 800,\n",
       "                                      900, 1000, 1100, 1200, 1300, 1400, 1500,\n",
       "                                      1600, 1700, 1800, 1900, 2000, 2100, 2200,\n",
       "                                      2300, 2400, 2500, 2600, 2700, 2800,\n",
       "                                      2900]},\n",
       "             scoring='accuracy', verbose=3)"
      ]
     },
     "execution_count": 15,
     "metadata": {},
     "output_type": "execute_result"
    }
   ],
   "source": [
    "#hyperperameter tuning\n",
    "from sklearn.model_selection import RandomizedSearchCV,GridSearchCV\n",
    "\n",
    "grid=svm.SVC()\n",
    "\n",
    "gridmodel=GridSearchCV(\n",
    "    grid,\n",
    "    param_grid={\n",
    "     'C':list(range(3,int(np.sqrt(150)),3)),\n",
    "     'kernel':['linear','rbf','poly'],\n",
    "     'degree':[2,3,4,5,6],\n",
    "     'gamma':['scale','auto'],\n",
    "      'decision_function_shape':['ovr','ovo'],\n",
    "     'max_iter':list(range(100,3000,100))\n",
    "    },\n",
    "    cv=5,scoring='accuracy',n_jobs=-1,verbose=3\n",
    ")\n",
    "gridmodel.fit(xtrain,ytrain)"
   ]
  },
  {
   "cell_type": "code",
   "execution_count": 16,
   "metadata": {},
   "outputs": [
    {
     "data": {
      "text/plain": [
       "{'C': 6,\n",
       " 'decision_function_shape': 'ovr',\n",
       " 'degree': 2,\n",
       " 'gamma': 'scale',\n",
       " 'kernel': 'linear',\n",
       " 'max_iter': 100}"
      ]
     },
     "execution_count": 16,
     "metadata": {},
     "output_type": "execute_result"
    }
   ],
   "source": [
    "gridmodel.best_params_"
   ]
  },
  {
   "cell_type": "code",
   "execution_count": 17,
   "metadata": {},
   "outputs": [
    {
     "data": {
      "text/plain": [
       "SVC(C=6, degree=2, kernel='linear', max_iter=100)"
      ]
     },
     "execution_count": 17,
     "metadata": {},
     "output_type": "execute_result"
    }
   ],
   "source": [
    "finalmodel=gridmodel.best_estimator_\n",
    "finalmodel"
   ]
  },
  {
   "cell_type": "code",
   "execution_count": 18,
   "metadata": {},
   "outputs": [
    {
     "data": {
      "text/plain": [
       "<sklearn.metrics._plot.confusion_matrix.ConfusionMatrixDisplay at 0x20d7f1d8f10>"
      ]
     },
     "execution_count": 18,
     "metadata": {},
     "output_type": "execute_result"
    },
    {
     "data": {
      "image/png": "[encoded data removed]",
      "text/plain": [
       "<Figure size 432x288 with 2 Axes>"
      ]
     },
     "metadata": {
      "needs_background": "light"
     },
     "output_type": "display_data"
    },
    {
     "data": {
      "image/png": "[encoded data removed]",
      "text/plain": [
       "<Figure size 432x288 with 2 Axes>"
      ]
     },
     "metadata": {
      "needs_background": "light"
     },
     "output_type": "display_data"
    }
   ],
   "source": [
    "from sklearn import metrics\n",
    "\n",
    "metrics.plot_confusion_matrix(finalmodel,xtrain,ytrain)\n",
    "metrics.plot_confusion_matrix(finalmodel,xtest,ytest)"
   ]
  },
  {
   "cell_type": "code",
   "execution_count": 19,
   "metadata": {},
   "outputs": [
    {
     "data": {
      "image/png": "[encoded data removed]",
      "text/plain": [
       "<Figure size 1440x720 with 1 Axes>"
      ]
     },
     "metadata": {
      "needs_background": "light"
     },
     "output_type": "display_data"
    }
   ],
   "source": [
    "#analysis\n",
    "clf=gridmodel.best_estimator_\n",
    "\n",
    "\n",
    "clf.fit(scaledx[:,:2],encodedy)\n",
    "\n",
    "xmin,xmax= scaledx[:,:2][:,0].min()-0.5,scaledx[:,:2][:,0].max()+0.5\n",
    "ymin,ymax= scaledx[:,:2][:,:1].min()-0.5,scaledx[:,:2][0,:1].max()+0.5\n",
    "\n",
    "xx,yy=np.meshgrid(np.arange(xmin,xmax,0.2),np.arange(ymin,ymax,0.2))\n",
    "z=clf.predict(np.c_[xx.ravel(),yy.ravel()])\n",
    "#color\n",
    "z=z.reshape(xx.shape)\n",
    "plt.figure(1,figsize=(20,10))\n",
    "plt.set_cmap(plt.cm.Paired)\n",
    "plt.pcolormesh(xx,yy,z)\n",
    "#plot\n",
    "plt.scatter(scaledx[:,:2][:,0],scaledx[:,:2][:,:1],c=encodedy)\n",
    "plt.xlim(xx.min(),xx.max())\n",
    "plt.ylim(yy.min(),yy.max())\n",
    "plt.show()"
   ]
  }
 ],
 "metadata": {
  "interpreter": {
   "hash": "43435a050d4ac362dc4b1b4851a0333547cf4819a4e47175b9a0f2919a9b0b1b"
  },
  "kernelspec": {
   "display_name": "Python 3.9.5 64-bit",
   "name": "python3"
  },
  "language_info": {
   "codemirror_mode": {
    "name": "ipython",
    "version": 3
   },
   "file_extension": ".py",
   "mimetype": "text/x-python",
   "name": "python",
   "nbconvert_exporter": "python",
   "pygments_lexer": "ipython3",
   "version": "3.9.5"
  },
  "orig_nbformat": 4
 },
 "nbformat": 4,
 "nbformat_minor": 2
}
