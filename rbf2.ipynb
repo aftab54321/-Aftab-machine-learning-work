{
 "cells": [
  {
   "cell_type": "code",
   "execution_count": 1,
   "source": [
    "import numpy as np\r\n",
    "import pandas as pd\r\n",
    "import matplotlib.pyplot as plt\r\n",
    "import seaborn as sns\r\n",
    "import random\r\n",
    "random.seed(0)\r\n"
   ],
   "outputs": [],
   "metadata": {}
  },
  {
   "cell_type": "code",
   "execution_count": 2,
   "source": [
    "data=pd.read_csv(r\"c:\\Users\\acer\\Desktop\\FuelConsumption.csv\")"
   ],
   "outputs": [],
   "metadata": {}
  },
  {
   "cell_type": "code",
   "execution_count": 6,
   "source": [
    "X=data[['ENGINESIZE','FUELCONSUMPTION_COMB']]\r\n",
    "Y=data[['CO2EMISSIONS']]\r\n",
    "print(X[['ENGINESIZE']].values.min())\r\n",
    "print(X[['ENGINESIZE']].values.max())\r\n",
    "\r\n",
    "\r\n",
    "from sklearn.model_selection import train_test_split\r\n",
    "xtrain,xtest,ytrain,ytest=train_test_split(X,Y,test_size=0.2,random_state=1)\r\n",
    "\r\n",
    "from sklearn.svm import SVR\r\n",
    "\r\n",
    "svrR = SVR()\r\n",
    "svrL = SVR(kernel='linear')\r\n",
    "svrP = SVR(kernel='poly',degree=1)\r\n",
    "\r\n",
    "svrR.fit(xtrain,ytrain.values.ravel())\r\n",
    "svrL.fit(xtrain,ytrain.values.ravel())\r\n",
    "svrP.fit(xtrain,ytrain.values.ravel())\r\n",
    "\r\n",
    "yhatR=svrR.predict(xtest)\r\n",
    "yhatL=svrL.predict(xtest)\r\n",
    "yhatP=svrP.predict(xtest)\r\n",
    "\r\n",
    "from sklearn.metrics import mean_squared_error,mean_absolute_percentage_error,r2_score\r\n",
    "\r\n",
    "print(f\"========RBF=============\")\r\n",
    "print(\"MSR: \",mean_squared_error(yhatR,ytest.values.ravel()))\r\n",
    "print(\"R2_Score:\",r2_score(yhatR,ytest.values.ravel()))\r\n",
    "\r\n",
    "print(f\"=========Linear===========\")\r\n",
    "print(\"MSR: \",mean_squared_error(yhatL,ytest.values.ravel()))\r\n",
    "print(\"R2_Score:\",r2_score(yhatL,ytest.values.ravel()))\r\n",
    "\r\n",
    "print(f\"==========Poly==============\")\r\n",
    "print(\"MSR: \",mean_squared_error(yhatP,ytest.values.ravel()))\r\n",
    "print(\"R2_Score:\",r2_score(yhatP,ytest.values.ravel()))\r\n"
   ],
   "outputs": [
    {
     "output_type": "stream",
     "name": "stdout",
     "text": [
      "1.0\n",
      "8.4\n",
      "========RBF=============\n",
      "MSR:  677.8990859835736\n",
      "R2_Score: 0.7659275734447375\n",
      "=========Linear===========\n",
      "MSR:  1620.2184267485227\n",
      "R2_Score: 0.7598444235313728\n",
      "==========Poly==============\n",
      "MSR:  888.9722939531265\n",
      "R2_Score: 0.8144385857890487\n"
     ]
    }
   ],
   "metadata": {}
  },
  {
   "cell_type": "code",
   "execution_count": 11,
   "source": [
    "import matplotlib.pyplot as plt\r\n",
    "\r\n",
    "svrR = SVR()\r\n",
    "svrL = SVR(kernel='linear',C=150,epsilon=8)\r\n",
    "svrP = SVR(kernel='poly',degree=1)\r\n",
    "\r\n",
    "svrR.fit(xtrain[['ENGINESIZE']],ytrain.values.ravel())\r\n",
    "svrL.fit(xtrain[['ENGINESIZE']],ytrain.values.ravel())\r\n",
    "svrP.fit(xtrain[['ENGINESIZE']],ytrain.values.ravel())\r\n",
    "\r\n",
    "yhatR=svrR.predict(xtest[['ENGINESIZE']])\r\n",
    "yhatL=svrL.predict(xtest[['ENGINESIZE']])\r\n",
    "yhatP=svrP.predict(xtest[['ENGINESIZE']])\r\n",
    "\r\n",
    "\r\n",
    "lineE = np.linspace(\r\n",
    "    int(X[['ENGINESIZE']].values.min()),\r\n",
    "    int(X[['ENGINESIZE']].values.max()),\r\n",
    "    500\r\n",
    "    ).reshape(-1,1)\r\n",
    "lineF=np.linspace(\r\n",
    "    int(X[['FUELCONSUMPTION_COMB']].values.min()),\r\n",
    "    int(X[['FUELCONSUMPTION_COMB']].values.max()),\r\n",
    "    500\r\n",
    "    ).reshape(-1,1)\r\n",
    "\r\n",
    "feature = pd.DataFrame(\r\n",
    "    {\r\n",
    "        'E':lineE[0],\r\n",
    "        'F':lineF[0]\r\n",
    "    },\r\n",
    "    index=list(range(500))\r\n",
    "    )    \r\n",
    "\r\n",
    "fig,axes = plt.subplots(1,1, figsize=(10,6))\r\n",
    "axes.scatter(xtrain[['ENGINESIZE']].values,ytrain.values,c='hotpink',label='Data')\r\n",
    "axes.plot(lineE,svrL.predict(lineE),c='darkorange',label='Prediction')\r\n",
    "axes.legend()\r\n",
    "plt.show()"
   ],
   "outputs": [
    {
     "output_type": "display_data",
     "data": {
      "image/png": "[encoded data removed]",
      "text/plain": [
       "<Figure size 720x432 with 1 Axes>"
      ]
     },
     "metadata": {
      "needs_background": "light"
     }
    }
   ],
   "metadata": {}
  }
 ],
 "metadata": {
  "orig_nbformat": 4,
  "language_info": {
   "name": "python",
   "version": "3.9.5",
   "mimetype": "text/x-python",
   "codemirror_mode": {
    "name": "ipython",
    "version": 3
   },
   "pygments_lexer": "ipython3",
   "nbconvert_exporter": "python",
   "file_extension": ".py"
  },
  "kernelspec": {
   "name": "python3",
   "display_name": "Python 3.9.5 64-bit"
  },
  "interpreter": {
   "hash": "43435a050d4ac362dc4b1b4851a0333547cf4819a4e47175b9a0f2919a9b0b1b"
  }
 },
 "nbformat": 4,
 "nbformat_minor": 2
}